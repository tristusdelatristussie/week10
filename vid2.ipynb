{
 "cells": [
  {
   "cell_type": "code",
   "execution_count": 39,
   "id": "a86ac105-5453-4263-9267-62ca94a7873c",
   "metadata": {},
   "outputs": [],
   "source": [
    "import grpc\n",
    "import tensorflow as tf\n",
    "from tensorflow_serving.apis import predict_pb2 \n",
    "from tensorflow_serving.apis import prediction_service_pb2_grpc"
   ]
  },
  {
   "cell_type": "code",
   "execution_count": 82,
   "id": "451f3d11-4036-4c0f-9ef6-1f2d8068efb0",
   "metadata": {},
   "outputs": [],
   "source": [
    "host = 'localhost:8500'\n",
    "\n",
    "channel = grpc.insecure_channel('192.168.1.19:8500')"
   ]
  },
  {
   "cell_type": "code",
   "execution_count": 83,
   "id": "ab105bc9-a82c-49a1-a65b-45558c702b87",
   "metadata": {},
   "outputs": [],
   "source": [
    "stub = prediction_service_pb2_grpc.PredictionServiceStub(channel)"
   ]
  },
  {
   "cell_type": "code",
   "execution_count": 84,
   "id": "f889be7d-dba5-4763-b693-7c818109638d",
   "metadata": {},
   "outputs": [
    {
     "data": {
      "text/plain": [
       "<tensorflow_serving.apis.prediction_service_pb2_grpc.PredictionServiceStub at 0x1f4bee5a170>"
      ]
     },
     "execution_count": 84,
     "metadata": {},
     "output_type": "execute_result"
    }
   ],
   "source": [
    "stub"
   ]
  },
  {
   "cell_type": "code",
   "execution_count": 85,
   "id": "4be4b46a-eeb8-45c6-bb7a-d2f771d25557",
   "metadata": {},
   "outputs": [],
   "source": [
    "url = 'http://bit.ly/mlbookcamp-pants'"
   ]
  },
  {
   "cell_type": "code",
   "execution_count": 86,
   "id": "1c7466d1-9d2c-45a5-9cc4-8b7124ba0bde",
   "metadata": {},
   "outputs": [],
   "source": [
    "from keras_image_helper import create_preprocessor\n",
    "preprocessor = create_preprocessor('xception', target_size=(299,299))"
   ]
  },
  {
   "cell_type": "code",
   "execution_count": 87,
   "id": "042fe625-4772-4a14-9385-24a04bb2fd06",
   "metadata": {},
   "outputs": [],
   "source": [
    "X = preprocessor.from_url(url)"
   ]
  },
  {
   "cell_type": "code",
   "execution_count": 88,
   "id": "59bce422-0e8a-4f7d-8a6d-6363246278a5",
   "metadata": {},
   "outputs": [],
   "source": [
    "def np_to_protobuf(data):\n",
    "    return tf.make_tensor_proto(data, shape=data.shape) "
   ]
  },
  {
   "cell_type": "code",
   "execution_count": 89,
   "id": "42661a9c-38af-4049-ba41-6fda037a3fd5",
   "metadata": {},
   "outputs": [],
   "source": [
    "pb_request = predict_pb2.PredictRequest()\n",
    "\n",
    "pb_request.model_spec.name = 'clothing-model'\n",
    "pb_request.model_spec.signature_name = 'serving_default'\n",
    "pb_request.inputs['input_8'].CopyFrom(np_to_protobuf(X))"
   ]
  },
  {
   "cell_type": "code",
   "execution_count": 90,
   "id": "4bf54394-f46c-4215-a5d9-5ba02c2e8660",
   "metadata": {},
   "outputs": [],
   "source": [
    "pb_response = stub.Predict(pb_request, timeout=20)"
   ]
  },
  {
   "cell_type": "code",
   "execution_count": 92,
   "id": "c7a3f374-6a8b-41da-8749-209359877df4",
   "metadata": {},
   "outputs": [
    {
     "data": {
      "text/plain": [
       "[-1.8798645734786987, -4.756311893463135, -2.3595333099365234, -1.0892642736434937, 9.90378475189209, -2.826181173324585, -3.648310422897339, 3.2411563396453857, -2.612095832824707, -4.852035999298096]"
      ]
     },
     "execution_count": 92,
     "metadata": {},
     "output_type": "execute_result"
    }
   ],
   "source": [
    "pb_response.outputs['dense_7'].float_val"
   ]
  }
 ],
 "metadata": {
  "kernelspec": {
   "display_name": "Python 3 (ipykernel)",
   "language": "python",
   "name": "python3"
  },
  "language_info": {
   "codemirror_mode": {
    "name": "ipython",
    "version": 3
   },
   "file_extension": ".py",
   "mimetype": "text/x-python",
   "name": "python",
   "nbconvert_exporter": "python",
   "pygments_lexer": "ipython3",
   "version": "3.10.10"
  }
 },
 "nbformat": 4,
 "nbformat_minor": 5
}
