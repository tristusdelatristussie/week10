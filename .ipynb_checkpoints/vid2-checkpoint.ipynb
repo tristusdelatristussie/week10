{
 "cells": [
  {
   "cell_type": "code",
   "execution_count": 2,
   "id": "a86ac105-5453-4263-9267-62ca94a7873c",
   "metadata": {},
   "outputs": [],
   "source": [
    "import grpc\n",
    "import tensorflow as tf\n",
    "from tensorflow_serving.apis import predict_pb2 , prediction_service_pb2_grpc"
   ]
  },
  {
   "cell_type": "code",
   "execution_count": 3,
   "id": "451f3d11-4036-4c0f-9ef6-1f2d8068efb0",
   "metadata": {},
   "outputs": [],
   "source": [
    "host = 'locahost:8500'\n",
    "\n",
    "channel = grpc.insecure_channel(host)"
   ]
  },
  {
   "cell_type": "raw",
   "id": "b9f03cf2-0f35-4f38-8c3e-0fd64d524a72",
   "metadata": {},
   "source": [
    "predi"
   ]
  },
  {
   "cell_type": "code",
   "execution_count": null,
   "id": "cb9b5fb3-f53c-4a30-b69d-f6d579500cac",
   "metadata": {},
   "outputs": [],
   "source": []
  },
  {
   "cell_type": "code",
   "execution_count": null,
   "id": "f889be7d-dba5-4763-b693-7c818109638d",
   "metadata": {},
   "outputs": [],
   "source": []
  },
  {
   "cell_type": "code",
   "execution_count": null,
   "id": "4be4b46a-eeb8-45c6-bb7a-d2f771d25557",
   "metadata": {},
   "outputs": [],
   "source": []
  },
  {
   "cell_type": "code",
   "execution_count": null,
   "id": "1c7466d1-9d2c-45a5-9cc4-8b7124ba0bde",
   "metadata": {},
   "outputs": [],
   "source": []
  },
  {
   "cell_type": "code",
   "execution_count": null,
   "id": "042fe625-4772-4a14-9385-24a04bb2fd06",
   "metadata": {},
   "outputs": [],
   "source": []
  }
 ],
 "metadata": {
  "kernelspec": {
   "display_name": "Python 3 (ipykernel)",
   "language": "python",
   "name": "python3"
  },
  "language_info": {
   "codemirror_mode": {
    "name": "ipython",
    "version": 3
   },
   "file_extension": ".py",
   "mimetype": "text/x-python",
   "name": "python",
   "nbconvert_exporter": "python",
   "pygments_lexer": "ipython3",
   "version": "3.10.10"
  }
 },
 "nbformat": 4,
 "nbformat_minor": 5
}
