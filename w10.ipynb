{
 "cells": [
  {
   "cell_type": "code",
   "execution_count": null,
   "id": "c1058432-fa1b-4f7d-861c-b9f2e405ac16",
   "metadata": {},
   "outputs": [],
   "source": [
    "#Q1 0.7269"
   ]
  },
  {
   "cell_type": "code",
   "execution_count": null,
   "id": "fe42f148-edb7-445b-81e6-361aeeacb299",
   "metadata": {},
   "outputs": [],
   "source": [
    "#Q2 kind version 0.20.0"
   ]
  },
  {
   "cell_type": "code",
   "execution_count": null,
   "id": "f2839797-a03c-4c5b-9ac6-8c1a6dd31312",
   "metadata": {},
   "outputs": [],
   "source": [
    "#Q3 The CLUSTER-IP is a virtual IP address assigned to the service within the cluster, allowing other components within the cluster to communicate with the service."
   ]
  },
  {
   "cell_type": "code",
   "execution_count": null,
   "id": "3a15e63c-3e23-4e84-9f7d-8595316986e2",
   "metadata": {},
   "outputs": [],
   "source": [
    "#Q4 kubectl apply"
   ]
  },
  {
   "cell_type": "markdown",
   "id": "5fa6f2a8-b34a-4852-952e-7cfad0250ade",
   "metadata": {},
   "source": [
    "apiVersion: apps/v1\n",
    "kind: Deployment\n",
    "metadata:\n",
    "  name: credit\n",
    "spec:\n",
    "  selector:\n",
    "    matchLabels:\n",
    "      app: credit\n",
    "  replicas: 1\n",
    "  template:\n",
    "    metadata:\n",
    "      labels:\n",
    "        app: credit\n",
    "    spec:\n",
    "      containers:\n",
    "      - name: credit\n",
    "        image: <Image>\n",
    "        resources:\n",
    "          requests:\n",
    "            memory: \"64Mi\"\n",
    "            cpu: \"100m\"            \n",
    "          limits:\n",
    "            memory: <Memory>\n",
    "            cpu: <CPU>\n",
    "        ports:\n",
    "        - containerPort: <Port>"
   ]
  },
  {
   "cell_type": "code",
   "execution_count": null,
   "id": "a76d6231-4b93-48e2-b0aa-3fb51934655c",
   "metadata": {},
   "outputs": [],
   "source": [
    "#Q5 9696"
   ]
  },
  {
   "cell_type": "code",
   "execution_count": null,
   "id": "37c3ba98-3ff7-4617-a8e2-463e450a912f",
   "metadata": {},
   "outputs": [],
   "source": [
    "#Q6"
   ]
  },
  {
   "cell_type": "code",
   "execution_count": null,
   "id": "abf62236-327c-49e6-8855-699ccfcfd58c",
   "metadata": {},
   "outputs": [],
   "source": [
    "#Q7"
   ]
  },
  {
   "cell_type": "code",
   "execution_count": null,
   "id": "affeb783-273f-41ab-a0aa-882c963652f6",
   "metadata": {},
   "outputs": [],
   "source": []
  },
  {
   "cell_type": "code",
   "execution_count": null,
   "id": "e69d5493-e83b-45ea-be93-1fbf11dae689",
   "metadata": {},
   "outputs": [],
   "source": []
  }
 ],
 "metadata": {
  "kernelspec": {
   "display_name": "Python 3 (ipykernel)",
   "language": "python",
   "name": "python3"
  },
  "language_info": {
   "codemirror_mode": {
    "name": "ipython",
    "version": 3
   },
   "file_extension": ".py",
   "mimetype": "text/x-python",
   "name": "python",
   "nbconvert_exporter": "python",
   "pygments_lexer": "ipython3",
   "version": "3.10.10"
  }
 },
 "nbformat": 4,
 "nbformat_minor": 5
}
